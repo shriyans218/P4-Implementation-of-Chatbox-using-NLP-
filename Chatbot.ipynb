pip install nltk scikit-learn transformers
import nltk
from nltk.chat.util import Chat, reflections
from sklearn.feature_extraction.text import TfidfVectorizer
from sklearn.svm import SVC
from sklearn.pipeline import make_pipeline
import random

# Sample Seed Descriptions Dataset
seed_data = [
    ("Wheat", "Wheat is a cereal grain that is a staple food in many countries."),
    ("Rice", "Rice is the seed of the monocot plants Oryza sativa or Oryza glaberrima."),
    ("Corn", "Corn, also known as maize, is a cereal plant first domesticated by indigenous peoples in southern Mexico."),
    ("Barley", "Barley is a member of the grass family and is one of the oldest cultivated grains."),
    ("Soybean", "Soybean is a legume native to East Asia, widely grown for its edible bean."),
    ("Oats", "Oats are a type of cereal grain grown for its seed, used primarily as food for livestock and humans."),
    ("Chia", "Chia seeds are tiny black or white seeds from the plant Salvia hispanica, native to Mexico and Guatemala."),
    ("Sunflower", "Sunflower seeds are the edible seeds of the sunflower plant, commonly consumed as snacks or used for oil extraction."),
    ("Pumpkin", "Pumpkin seeds, also known as pepitas, are the edible seeds of pumpkins, often roasted and eaten as snacks."),
    ("Cucumber", "Cucumber seeds are the small, flat seeds found in the center of a cucumber, commonly used in salads and other dishes."),
    ("Lettuce", "Lettuce seeds are small, light, and oval-shaped, used to grow lettuce, a leafy vegetable commonly used in salads."),
    ("Tomato", "Tomato seeds are small, flat, and oval-shaped, found in the center of the tomato fruit."),
    ("Carrot", "Carrot seeds are small and slender, typically used to grow the orange root vegetable."),
    ("Pea", "Pea seeds are small, round seeds that grow into pea plants, often consumed as vegetables or dried for storage."),
    ("Cabbage", "Cabbage seeds are small, round, and used to grow cabbage, a leafy green vegetable that forms a dense head."),
    ("Spinach", "Spinach seeds are small, round, and flat, used to grow spinach, a nutritious leafy vegetable."),
    ("Mustard", "Mustard seeds are tiny, round seeds used to grow mustard plants, commonly used in cooking or for oil extraction."),
    ("Radish", "Radish seeds are small, round, and typically used to grow radishes, a root vegetable known for its sharp flavor."),
    ("Grapes", "Grape seeds are small, oval-shaped seeds found in the fruit of the grapevine, used for growing new grapevines."),
    ("Pomegranate", "Pomegranate seeds are the edible seeds found in the pomegranate fruit, known for their sweet-tart flavor."),
    ("Apple", "Apple seeds are small, brown, and flat, found inside the apple fruit, used to grow apple trees."),
    ("Strawberry", "Strawberry seeds are small, numerous seeds on the surface of the strawberry fruit, commonly used to propagate new plants."),
    ("Avocado", "Avocado seeds are large, round, and hard, found in the center of the avocado fruit."),
    ("Peanut", "Peanut seeds, often referred to as nuts, are small, oval-shaped, and grow underground, used for food and oil extraction."),
    ("Sesame", "Sesame seeds are small, oval-shaped seeds from the sesame plant, commonly used in cooking and for oil production."),
    ("Fennel", "Fennel seeds are aromatic seeds from the fennel plant, commonly used in cooking for their sweet, anise-like flavor."),

]

# Training Seed Classifier
# Step 1: Prepare the seed data
X_train = [description for _, description in seed_data]  # The descriptions of seeds
y_train = [name for name, _ in seed_data]  # The corresponding seed names

# Step 2: Create a simple machine learning model
model = make_pipeline(TfidfVectorizer(), SVC(kernel='linear'))  # Using a linear SVM for classification
model.fit(X_train, y_train)

# Function for predicting seed based on description
def predict_seed(description):
    return model.predict([description])[0]

# Define NLP-based chatbot pairs for general interaction
pairs = [
    (r"Hi|Hello|Hey", ["Hello! How can I assist you with seed information today?"]),
    (r"Tell me about (.*)", [
        "Sure! Let me explain about %1. You can also ask about its characteristics.",
        "Here is some information about %1."
    ]),
    (r"Which seed is (.*)", [
        "Could you describe the seed or its features?",
        "Please provide more details about the seed."
    ]),
    (r"What's the difference between (.*) and (.*)", [
        "Let me check the differences between %1 and %2. I'll help you with that."
    ]),
    (r"exit|quit", ["Goodbye! Happy farming!"]),
]

# Create a chatbot using NLTK's Chat class
chatbot = Chat(pairs, reflections)

# Function to process and respond to the user input
def process_chat(input_text):
    return chatbot.respond(input_text)

# Main function to start the chatbot and perform seed recognition
def main():
    print("Farmer Seed Recognition Chatbot is running...")
    print("Type 'exit' or 'quit' to end the conversation.")
    
    while True:
        user_input = input("You: ")
        
        if user_input.lower() in ['exit', 'quit']:
            print("Bot: Goodbye! Happy farming!")
            break
        
        # Seed recognition based on the description
        if "seed" in user_input.lower():
            print("Bot: I can recognize seeds based on their descriptions.")
            seed_description = input("Please describe the seed: ")
            predicted_seed = predict_seed(seed_description)
            print(f"Bot: Based on your description, the seed could be: {predicted_seed}")
        
        # Process general chatbot conversation
        else:
            bot_response = process_chat(user_input)
            print(f"Bot: {bot_response}")

if __name__ == "__main__":
    main()
